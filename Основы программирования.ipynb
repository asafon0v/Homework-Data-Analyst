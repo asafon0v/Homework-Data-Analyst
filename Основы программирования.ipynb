{
 "cells": [
  {
   "cell_type": "markdown",
   "metadata": {},
   "source": [
    "### Пункт 1"
   ]
  },
  {
   "cell_type": "code",
   "execution_count": 16,
   "metadata": {},
   "outputs": [],
   "source": [
    "def indexes_for_target (nums, target):\n",
    "    vek = []\n",
    "    # Проходимся циклом по массиву, если сумма элементов равна target, добавляем пару индексов в результирующий массив\n",
    "    if len(nums) >= 2:\n",
    "        for i in range(0, len(nums)):\n",
    "            for j in range(i+1, len(nums)):\n",
    "                if nums[i] + nums[j] == target:\n",
    "                    vek.append([i, j])\n",
    "        return vek if len(vek) > 0 else \"Чисел, дающих в сумме target, в массиве нет!\"\n",
    "    else:\n",
    "        return \"Нельзя суммировать меньше двух чисел!\""
   ]
  },
  {
   "cell_type": "code",
   "execution_count": 14,
   "metadata": {},
   "outputs": [
    {
     "data": {
      "text/plain": [
       "[[0, 7], [1, 5], [1, 6]]"
      ]
     },
     "execution_count": 14,
     "metadata": {},
     "output_type": "execute_result"
    }
   ],
   "source": [
    "indexes_for_target([1,2,15,66,-12, 7, 7, 8], 9)"
   ]
  },
  {
   "cell_type": "code",
   "execution_count": 15,
   "metadata": {},
   "outputs": [
    {
     "data": {
      "text/plain": [
       "'Чисел, дающих в сумме target, в массиве нет!'"
      ]
     },
     "execution_count": 15,
     "metadata": {},
     "output_type": "execute_result"
    }
   ],
   "source": [
    "indexes_for_target([1,2,15,66,-12, 7, 7, 8], 1)"
   ]
  },
  {
   "cell_type": "code",
   "execution_count": 18,
   "metadata": {},
   "outputs": [
    {
     "data": {
      "text/plain": [
       "'Нельзя суммировать меньше двух чисел!'"
      ]
     },
     "execution_count": 18,
     "metadata": {},
     "output_type": "execute_result"
    }
   ],
   "source": [
    "indexes_for_target([1], 1)"
   ]
  },
  {
   "cell_type": "markdown",
   "metadata": {},
   "source": [
    "### Пункт 2\n"
   ]
  },
  {
   "cell_type": "code",
   "execution_count": null,
   "metadata": {},
   "outputs": [],
   "source": [
    "# Насколько я понял условие 2 пункта (не уверен, что правильно), теперь в каждом вбиваемом\n",
    "# массиве есть либо только одна искомая пара чисел, либо их нет вообще, поэтому можно\n",
    "# уменьшить сложность в предыдущем пункте с O(n^2) до O(n)"
   ]
  },
  {
   "cell_type": "code",
   "execution_count": 26,
   "metadata": {},
   "outputs": [],
   "source": [
    "def indexes_for_target_modified (nums, target):\n",
    "    d = {}\n",
    "    for i in range(0, len(nums)):\n",
    "        num = target - nums[i]\n",
    "        if num not in d:\n",
    "            d[nums[i]] = i\n",
    "        else:\n",
    "            return [d[num], i]\n",
    "    return \"Таких чисел в массиве нет!\""
   ]
  },
  {
   "cell_type": "code",
   "execution_count": 31,
   "metadata": {},
   "outputs": [
    {
     "data": {
      "text/plain": [
       "[1, 3]"
      ]
     },
     "execution_count": 31,
     "metadata": {},
     "output_type": "execute_result"
    }
   ],
   "source": [
    "indexes_for_target_modified ([1, 2, 3, 7], 9)"
   ]
  },
  {
   "cell_type": "code",
   "execution_count": 32,
   "metadata": {},
   "outputs": [
    {
     "data": {
      "text/plain": [
       "'Таких чисел в массиве нет!'"
      ]
     },
     "execution_count": 32,
     "metadata": {},
     "output_type": "execute_result"
    }
   ],
   "source": [
    "indexes_for_target_modified ([1,2,3,7], 12)"
   ]
  },
  {
   "cell_type": "code",
   "execution_count": null,
   "metadata": {},
   "outputs": [],
   "source": []
  }
 ],
 "metadata": {
  "kernelspec": {
   "display_name": "Python 3",
   "language": "python",
   "name": "python3"
  },
  "language_info": {
   "codemirror_mode": {
    "name": "ipython",
    "version": 3
   },
   "file_extension": ".py",
   "mimetype": "text/x-python",
   "name": "python",
   "nbconvert_exporter": "python",
   "pygments_lexer": "ipython3",
   "version": "3.8.5"
  }
 },
 "nbformat": 4,
 "nbformat_minor": 4
}
